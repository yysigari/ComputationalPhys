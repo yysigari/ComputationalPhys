import sympy as sym
from sympy.plotting import plot, plot_parametric, plot3d, plot3d_parametric_line, plot3d_parametric_surface

x, y, mu = sym.symbols('x y mu')
t= plot(sym.sinc(x**2))

sym.series(sym.sinc(x**2), x) #does not give us a good expansion so just calcualte the FT
sym.fourier_series(sym.sinc(x**2),(x, -sym.pi, sym.pi))
#Now expand the integrande and dropping th ehigher harmonics
sym.series(sym.cos(x)*sym.sinc(x**2),x)
sym.integrate(sym.sinc(x**2)-0.5*sym.sin(x**2)+ x**2*sym.sin(x**2)/24, (x, -sym.pi, sym.pi))
#Act as a amplitude constant for the cos(x)
t= plot(sym.cos(x)/sym.pi)
